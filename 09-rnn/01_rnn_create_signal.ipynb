{
 "cells": [
  {
   "cell_type": "code",
   "execution_count": 1,
   "id": "95fb44a2",
   "metadata": {},
   "outputs": [
    {
     "name": "stdout",
     "output_type": "stream",
     "text": [
      "C:\\app\n"
     ]
    }
   ],
   "source": [
    "%cd \"C:/app\"\n",
    "\n",
    "# package pip tensorflow\n",
    "# github: https://github.com/tensorflow/tensorflow \n",
    "# docs: https://www.tensorflow.org/api_docs/python/tf\n",
    "# examples: https://www.tensorflow.org/"
   ]
  },
  {
   "cell_type": "code",
   "execution_count": 2,
   "id": "70e0c726-3381-4a36-bcb4-47a7bb8b744c",
   "metadata": {},
   "outputs": [],
   "source": [
    "import numpy as np\n",
    "import pandas as pd\n",
    "import matplotlib.pyplot as plt\n",
    "import seaborn as sns\n",
    "\n",
    "import warnings\n",
    "warnings.filterwarnings('ignore')\n",
    "\n",
    "\n",
    "sns.set(rc={'figure.figsize':(10,5)})\n",
    "sns.set_theme()\n",
    "sns.set_style('whitegrid')"
   ]
  },
  {
   "cell_type": "markdown",
   "id": "61764bcc",
   "metadata": {},
   "source": [
    "**Load Data**"
   ]
  },
  {
   "cell_type": "code",
   "execution_count": 4,
   "id": "b6362e04",
   "metadata": {},
   "outputs": [
    {
     "name": "stdout",
     "output_type": "stream",
     "text": [
      "<class 'pandas.core.frame.DataFrame'>\n",
      "DatetimeIndex: 24913 entries, 2021-01-04 00:30:00 to 2022-12-30 22:30:00\n",
      "Data columns (total 1 columns):\n",
      " #   Column    Non-Null Count  Dtype  \n",
      "---  ------    --------------  -----  \n",
      " 0   PCTRET_1  24913 non-null  float64\n",
      "dtypes: float64(1)\n",
      "memory usage: 389.3 KB\n",
      "<class 'pandas.core.frame.DataFrame'>\n",
      "DatetimeIndex: 24913 entries, 2021-01-04 00:30:00 to 2022-12-30 22:30:00\n",
      "Data columns (total 1 columns):\n",
      " #   Column           Non-Null Count  Dtype  \n",
      "---  ------           --------------  -----  \n",
      " 0   TARGET_LOGRET_1  24913 non-null  float64\n",
      "dtypes: float64(1)\n",
      "memory usage: 389.3 KB\n"
     ]
    }
   ],
   "source": [
    "# load data\n",
    "from sklearn.preprocessing import scale\n",
    "\n",
    "\n",
    "data = pd.read_csv(\"./data/rnn/features_targets.csv\", index_col=\"Timestamp\", parse_dates=[\"Timestamp\"])\n",
    "data\n",
    "\n",
    "\n",
    "excluded_cols = ['Open',\n",
    " 'High',\n",
    " 'Low',\n",
    " 'Close',\n",
    " 'Symbol']\n",
    "\n",
    "all_cols = [c for c in data.columns if c not in excluded_cols ]\n",
    "data = data[all_cols]\n",
    "\n",
    "data.loc[:, data.columns] = scale(data)\n",
    "\n",
    "features_cols = data.columns[data.columns.str.contains(\"TARGET\") == False]\n",
    "features_ = data[features_cols]\n",
    "features_.info()\n",
    "\n",
    "target_col = \"TARGET_LOGRET_1\"\n",
    "targets_ = data[[target_col]]\n",
    "targets_.info()"
   ]
  },
  {
   "cell_type": "markdown",
   "id": "4cde9b6b",
   "metadata": {},
   "source": [
    "**Create windows**"
   ]
  },
  {
   "cell_type": "code",
   "execution_count": 5,
   "id": "b6a17024-d582-4db4-ab5c-6aeb91e276c8",
   "metadata": {},
   "outputs": [
    {
     "name": "stdout",
     "output_type": "stream",
     "text": [
      "<class 'pandas.core.frame.DataFrame'>\n",
      "DatetimeIndex: 24908 entries, 2021-01-04 03:00:00 to 2022-12-30 22:30:00\n",
      "Data columns (total 5 columns):\n",
      " #   Column  Non-Null Count  Dtype  \n",
      "---  ------  --------------  -----  \n",
      " 0   1       24908 non-null  float64\n",
      " 1   2       24908 non-null  float64\n",
      " 2   3       24908 non-null  float64\n",
      " 3   4       24908 non-null  float64\n",
      " 4   5       24908 non-null  float64\n",
      "dtypes: float64(5)\n",
      "memory usage: 1.1 MB\n",
      "None\n",
      "<class 'pandas.core.series.Series'>\n",
      "DatetimeIndex: 24908 entries, 2021-01-04 03:00:00 to 2022-12-30 22:30:00\n",
      "Series name: PCTRET_1\n",
      "Non-Null Count  Dtype  \n",
      "--------------  -----  \n",
      "24908 non-null  float64\n",
      "dtypes: float64(1)\n",
      "memory usage: 389.2 KB\n",
      "None\n"
     ]
    }
   ],
   "source": [
    "# create windows\n",
    "N = 5\n",
    "\n",
    "features = features_.copy()\n",
    "\n",
    "f_col = features.columns[0]\n",
    "features = features_.copy()\n",
    "for x in range(1, N + 1):\n",
    "    features[x] = features[f_col].shift(x)\n",
    "features = features.iloc[N:]\n",
    "\n",
    "targets = features.pop(f_col)\n",
    "\n",
    "print(features.info())\n",
    "print(targets.info())"
   ]
  },
  {
   "cell_type": "code",
   "execution_count": 6,
   "id": "f3b191f4-ee88-40ba-add4-3ec686ce46b5",
   "metadata": {},
   "outputs": [
    {
     "data": {
      "text/plain": [
       "PCTRET_1\n",
       "0    12459\n",
       "1    12449\n",
       "Name: count, dtype: int64"
      ]
     },
     "execution_count": 6,
     "metadata": {},
     "output_type": "execute_result"
    },
    {
     "data": {
      "image/png": "[encoded data removed]",
      "text/plain": [
       "<Figure size 1000x500 with 1 Axes>"
      ]
     },
     "metadata": {},
     "output_type": "display_data"
    }
   ],
   "source": [
    "# create label classification\n",
    "sns.histplot( targets)\n",
    "targets = (targets > 0).astype(int)\n",
    "targets.value_counts()"
   ]
  },
  {
   "cell_type": "code",
   "execution_count": 7,
   "id": "9b3e70c3-675f-4c8f-b22e-f14bef710686",
   "metadata": {},
   "outputs": [
    {
     "data": {
      "text/plain": [
       "Index([1, 2, 3, 4, 5], dtype='object')"
      ]
     },
     "execution_count": 7,
     "metadata": {},
     "output_type": "execute_result"
    }
   ],
   "source": [
    "features.columns"
   ]
  },
  {
   "cell_type": "code",
   "execution_count": 8,
   "id": "748bb95c-3409-4ff4-bdb7-66fa20dca5e8",
   "metadata": {},
   "outputs": [],
   "source": [
    "# or just this!!!\n",
    "window_size = features.columns.max()\n",
    "sequence = list(features.columns)\n"
   ]
  },
  {
   "cell_type": "code",
   "execution_count": 9,
   "id": "11206854-a4a2-4f27-9007-004bb44edc12",
   "metadata": {},
   "outputs": [
    {
     "data": {
      "text/plain": [
       "(800,)"
      ]
     },
     "execution_count": 9,
     "metadata": {},
     "output_type": "execute_result"
    }
   ],
   "source": [
    "train_size = 800\n",
    "test_size = 200\n",
    "\n",
    "td_features = features.iloc[:train_size]\n",
    "td_targets = targets.iloc[:train_size]\n",
    "\n",
    "ted_features = features.iloc[train_size:train_size +  test_size]\n",
    "ted_targets = targets.iloc[train_size:train_size +  test_size]\n",
    "\n",
    "td_features.shape\n",
    "td_targets.shape"
   ]
  },
  {
   "cell_type": "markdown",
   "id": "49eabd94-b531-424e-8d14-913ba31959db",
   "metadata": {},
   "source": [
    "**Define the Model Architecture**"
   ]
  },
  {
   "cell_type": "code",
   "execution_count": 10,
   "id": "7c0584a9",
   "metadata": {},
   "outputs": [],
   "source": [
    "import tensorflow as tf\n",
    "from tensorflow.keras.callbacks import ModelCheckpoint, EarlyStopping\n",
    "from tensorflow.keras.models import Model\n",
    "from tensorflow.keras.layers import Dense, LSTM, Input, concatenate, Embedding, Reshape, BatchNormalization\n",
    "import tensorflow.keras.backend as K"
   ]
  },
  {
   "cell_type": "code",
   "execution_count": 11,
   "id": "34ea6972",
   "metadata": {},
   "outputs": [],
   "source": [
    "X_train = td_features.values.reshape(-1, window_size, 1)\n",
    "y_train = td_targets\n",
    "\n",
    "X_test = ted_features.values.reshape(-1, window_size, 1)\n",
    "y_test = ted_targets"
   ]
  },
  {
   "cell_type": "code",
   "execution_count": 12,
   "id": "626d9f94-9f5c-4b07-88d6-918328fbd0ae",
   "metadata": {},
   "outputs": [
    {
     "name": "stdout",
     "output_type": "stream",
     "text": [
      "Model: \"model\"\n",
      "_________________________________________________________________\n",
      " Layer (type)                Output Shape              Param #   \n",
      "=================================================================\n",
      " Return (InputLayer)         [(None, 5, 1)]            0         \n",
      "                                                                 \n",
      " LSTM1 (LSTM)                (None, 1)                 12        \n",
      "                                                                 \n",
      "=================================================================\n",
      "Total params: 12 (48.00 Byte)\n",
      "Trainable params: 12 (48.00 Byte)\n",
      "Non-trainable params: 0 (0.00 Byte)\n",
      "_________________________________________________________________\n"
     ]
    }
   ],
   "source": [
    "K.clear_session() # just to clear clutter that tensorflow makes and release some memory (specifically in for loops model creations)\n",
    "n_features = 1\n",
    "\n",
    "input_layer = Input(shape=(window_size, n_features), name=\"Return\")\n",
    "\n",
    "lstm = LSTM(units=1,  \n",
    "            input_shape=(window_size, n_features),\n",
    "            name=\"LSTM1\",\n",
    "            return_sequences=False\n",
    "           ) (input_layer)\n",
    "\n",
    "rnn = Model(inputs=input_layer, outputs=lstm)\n",
    "\n",
    "rnn.summary()\n",
    "\n"
   ]
  },
  {
   "cell_type": "code",
   "execution_count": 13,
   "id": "9624bd89-03d8-474a-8b35-efed17fe6e1e",
   "metadata": {},
   "outputs": [
    {
     "name": "stdout",
     "output_type": "stream",
     "text": [
      "7/7 [==============================] - 1s 4ms/step\n"
     ]
    },
    {
     "data": {
      "text/plain": [
       "(200, 1)"
      ]
     },
     "execution_count": 13,
     "metadata": {},
     "output_type": "execute_result"
    }
   ],
   "source": [
    "# see the result shape\n",
    "rnn.predict(X_test).shape"
   ]
  },
  {
   "cell_type": "code",
   "execution_count": 14,
   "id": "edf227bb-dbc2-45ec-a8fa-e2294f532ec5",
   "metadata": {},
   "outputs": [
    {
     "data": {
      "text/html": [
       "<div>\n",
       "<style scoped>\n",
       "    .dataframe tbody tr th:only-of-type {\n",
       "        vertical-align: middle;\n",
       "    }\n",
       "\n",
       "    .dataframe tbody tr th {\n",
       "        vertical-align: top;\n",
       "    }\n",
       "\n",
       "    .dataframe thead th {\n",
       "        text-align: right;\n",
       "    }\n",
       "</style>\n",
       "<table border=\"1\" class=\"dataframe\">\n",
       "  <thead>\n",
       "    <tr style=\"text-align: right;\">\n",
       "      <th></th>\n",
       "      <th>loss</th>\n",
       "      <th>accuracy</th>\n",
       "      <th>val_loss</th>\n",
       "      <th>val_accuracy</th>\n",
       "    </tr>\n",
       "  </thead>\n",
       "  <tbody>\n",
       "    <tr>\n",
       "      <th>count</th>\n",
       "      <td>86.000000</td>\n",
       "      <td>86.000000</td>\n",
       "      <td>86.000000</td>\n",
       "      <td>86.000000</td>\n",
       "    </tr>\n",
       "    <tr>\n",
       "      <th>mean</th>\n",
       "      <td>1.141726</td>\n",
       "      <td>0.502703</td>\n",
       "      <td>0.960300</td>\n",
       "      <td>0.525116</td>\n",
       "    </tr>\n",
       "    <tr>\n",
       "      <th>std</th>\n",
       "      <td>0.865225</td>\n",
       "      <td>0.012367</td>\n",
       "      <td>0.547796</td>\n",
       "      <td>0.021543</td>\n",
       "    </tr>\n",
       "    <tr>\n",
       "      <th>min</th>\n",
       "      <td>0.693224</td>\n",
       "      <td>0.476250</td>\n",
       "      <td>0.688466</td>\n",
       "      <td>0.495000</td>\n",
       "    </tr>\n",
       "    <tr>\n",
       "      <th>25%</th>\n",
       "      <td>0.694010</td>\n",
       "      <td>0.491250</td>\n",
       "      <td>0.689505</td>\n",
       "      <td>0.505000</td>\n",
       "    </tr>\n",
       "    <tr>\n",
       "      <th>50%</th>\n",
       "      <td>0.701999</td>\n",
       "      <td>0.506250</td>\n",
       "      <td>0.690373</td>\n",
       "      <td>0.520000</td>\n",
       "    </tr>\n",
       "    <tr>\n",
       "      <th>75%</th>\n",
       "      <td>1.046380</td>\n",
       "      <td>0.512500</td>\n",
       "      <td>0.883379</td>\n",
       "      <td>0.540000</td>\n",
       "    </tr>\n",
       "    <tr>\n",
       "      <th>max</th>\n",
       "      <td>4.048039</td>\n",
       "      <td>0.521250</td>\n",
       "      <td>3.010970</td>\n",
       "      <td>0.570000</td>\n",
       "    </tr>\n",
       "  </tbody>\n",
       "</table>\n",
       "</div>"
      ],
      "text/plain": [
       "            loss   accuracy   val_loss  val_accuracy\n",
       "count  86.000000  86.000000  86.000000     86.000000\n",
       "mean    1.141726   0.502703   0.960300      0.525116\n",
       "std     0.865225   0.012367   0.547796      0.021543\n",
       "min     0.693224   0.476250   0.688466      0.495000\n",
       "25%     0.694010   0.491250   0.689505      0.505000\n",
       "50%     0.701999   0.506250   0.690373      0.520000\n",
       "75%     1.046380   0.512500   0.883379      0.540000\n",
       "max     4.048039   0.521250   3.010970      0.570000"
      ]
     },
     "execution_count": 14,
     "metadata": {},
     "output_type": "execute_result"
    },
    {
     "data": {
      "image/png": "[encoded data removed]",
      "text/plain": [
       "<Figure size 1000x500 with 1 Axes>"
      ]
     },
     "metadata": {},
     "output_type": "display_data"
    }
   ],
   "source": [
    "# Train the Model\n",
    "rnn.compile(loss=\"binary_crossentropy\",\n",
    "            metrics=[\"accuracy\"])\n",
    "\n",
    "early_stop = tf.keras.callbacks.EarlyStopping(monitor=\"loss\", patience=5)\n",
    "\n",
    "history = rnn.fit(X_train, \n",
    "                  y_train,\n",
    "                  epochs=100,\n",
    "                  validation_data=(X_test, y_test),\n",
    "                  callbacks=[early_stop],\n",
    "                  verbose=0\n",
    "                 )\n",
    "sns.lineplot( pd.DataFrame(history.history))\n",
    "pd.DataFrame(history.history).describe()\n"
   ]
  },
  {
   "cell_type": "code",
   "execution_count": 15,
   "id": "743d3e0c",
   "metadata": {},
   "outputs": [
    {
     "name": "stdout",
     "output_type": "stream",
     "text": [
      "Model: \"model\"\n",
      "_________________________________________________________________\n",
      " Layer (type)                Output Shape              Param #   \n",
      "=================================================================\n",
      " Return (InputLayer)         [(None, 5, 1)]            0         \n",
      "                                                                 \n",
      " LSTM1 (LSTM)                (None, 3)                 60        \n",
      "                                                                 \n",
      " output (Dense)              (None, 1)                 4         \n",
      "                                                                 \n",
      "=================================================================\n",
      "Total params: 64 (256.00 Byte)\n",
      "Trainable params: 64 (256.00 Byte)\n",
      "Non-trainable params: 0 (0.00 Byte)\n",
      "_________________________________________________________________\n"
     ]
    }
   ],
   "source": [
    "# adding dense layer\n",
    "K.clear_session()\n",
    "n_features = 1\n",
    "\n",
    "input_layer = Input(shape=(window_size, n_features), name=\"Return\")\n",
    "\n",
    "lstm = LSTM(units=3, \n",
    "            input_shape=(window_size, n_features),\n",
    "            name=\"LSTM1\",\n",
    "            return_sequences=False\n",
    "           ) (input_layer)\n",
    "\n",
    "dns = Dense(1, name=\"output\")(lstm)\n",
    "\n",
    "rnn = Model(inputs=input_layer, outputs=dns)\n",
    "\n",
    "rnn.summary()"
   ]
  },
  {
   "cell_type": "code",
   "execution_count": 16,
   "id": "cd3ea689",
   "metadata": {},
   "outputs": [
    {
     "data": {
      "text/html": [
       "<div>\n",
       "<style scoped>\n",
       "    .dataframe tbody tr th:only-of-type {\n",
       "        vertical-align: middle;\n",
       "    }\n",
       "\n",
       "    .dataframe tbody tr th {\n",
       "        vertical-align: top;\n",
       "    }\n",
       "\n",
       "    .dataframe thead th {\n",
       "        text-align: right;\n",
       "    }\n",
       "</style>\n",
       "<table border=\"1\" class=\"dataframe\">\n",
       "  <thead>\n",
       "    <tr style=\"text-align: right;\">\n",
       "      <th></th>\n",
       "      <th>loss</th>\n",
       "      <th>accuracy</th>\n",
       "      <th>val_loss</th>\n",
       "      <th>val_accuracy</th>\n",
       "    </tr>\n",
       "  </thead>\n",
       "  <tbody>\n",
       "    <tr>\n",
       "      <th>count</th>\n",
       "      <td>49.000000</td>\n",
       "      <td>49.000000</td>\n",
       "      <td>49.000000</td>\n",
       "      <td>49.000000</td>\n",
       "    </tr>\n",
       "    <tr>\n",
       "      <th>mean</th>\n",
       "      <td>0.838449</td>\n",
       "      <td>0.502347</td>\n",
       "      <td>0.812911</td>\n",
       "      <td>0.494082</td>\n",
       "    </tr>\n",
       "    <tr>\n",
       "      <th>std</th>\n",
       "      <td>0.584201</td>\n",
       "      <td>0.011999</td>\n",
       "      <td>0.400612</td>\n",
       "      <td>0.011712</td>\n",
       "    </tr>\n",
       "    <tr>\n",
       "      <th>min</th>\n",
       "      <td>0.690553</td>\n",
       "      <td>0.481250</td>\n",
       "      <td>0.693397</td>\n",
       "      <td>0.445000</td>\n",
       "    </tr>\n",
       "    <tr>\n",
       "      <th>25%</th>\n",
       "      <td>0.691612</td>\n",
       "      <td>0.496250</td>\n",
       "      <td>0.695341</td>\n",
       "      <td>0.490000</td>\n",
       "    </tr>\n",
       "    <tr>\n",
       "      <th>50%</th>\n",
       "      <td>0.692738</td>\n",
       "      <td>0.502500</td>\n",
       "      <td>0.697780</td>\n",
       "      <td>0.495000</td>\n",
       "    </tr>\n",
       "    <tr>\n",
       "      <th>75%</th>\n",
       "      <td>0.695842</td>\n",
       "      <td>0.508750</td>\n",
       "      <td>0.707358</td>\n",
       "      <td>0.500000</td>\n",
       "    </tr>\n",
       "    <tr>\n",
       "      <th>max</th>\n",
       "      <td>4.436719</td>\n",
       "      <td>0.528750</td>\n",
       "      <td>3.002235</td>\n",
       "      <td>0.515000</td>\n",
       "    </tr>\n",
       "  </tbody>\n",
       "</table>\n",
       "</div>"
      ],
      "text/plain": [
       "            loss   accuracy   val_loss  val_accuracy\n",
       "count  49.000000  49.000000  49.000000     49.000000\n",
       "mean    0.838449   0.502347   0.812911      0.494082\n",
       "std     0.584201   0.011999   0.400612      0.011712\n",
       "min     0.690553   0.481250   0.693397      0.445000\n",
       "25%     0.691612   0.496250   0.695341      0.490000\n",
       "50%     0.692738   0.502500   0.697780      0.495000\n",
       "75%     0.695842   0.508750   0.707358      0.500000\n",
       "max     4.436719   0.528750   3.002235      0.515000"
      ]
     },
     "execution_count": 16,
     "metadata": {},
     "output_type": "execute_result"
    },
    {
     "data": {
      "image/png": "[encoded data removed]",
      "text/plain": [
       "<Figure size 1000x500 with 1 Axes>"
      ]
     },
     "metadata": {},
     "output_type": "display_data"
    }
   ],
   "source": [
    "# train\n",
    "rnn.compile(loss=\"binary_crossentropy\",\n",
    "            metrics=[\"accuracy\"])\n",
    "\n",
    "early_stop = tf.keras.callbacks.EarlyStopping(monitor=\"loss\", patience=5)\n",
    "\n",
    "history = rnn.fit(X_train, \n",
    "                  y_train,\n",
    "                  epochs=100,\n",
    "                  validation_data=(X_test, y_test),\n",
    "                  callbacks=[early_stop],\n",
    "                  verbose=0\n",
    "                 )\n",
    "sns.lineplot( pd.DataFrame(history.history))\n",
    "pd.DataFrame(history.history).describe()"
   ]
  }
 ],
 "metadata": {
  "kernelspec": {
   "display_name": "Python 3 (ipykernel)",
   "language": "python",
   "name": "python3"
  },
  "language_info": {
   "codemirror_mode": {
    "name": "ipython",
    "version": 3
   },
   "file_extension": ".py",
   "mimetype": "text/x-python",
   "name": "python",
   "nbconvert_exporter": "python",
   "pygments_lexer": "ipython3",
   "version": "3.10.12"
  }
 },
 "nbformat": 4,
 "nbformat_minor": 5
}
